{
 "cells": [
  {
   "cell_type": "code",
   "execution_count": 1,
   "metadata": {},
   "outputs": [],
   "source": [
    "import cv2\n",
    "import os\n",
    "import time \n",
    "import uuid #for image"
   ]
  },
  {
   "cell_type": "code",
   "execution_count": 2,
   "metadata": {},
   "outputs": [],
   "source": [
    "IMAGES_PATH = 'Tensorflow/workspace/images/cllectedimages'"
   ]
  },
  {
   "cell_type": "code",
   "execution_count": 3,
   "metadata": {},
   "outputs": [],
   "source": [
    "labels=['Hi' , 'Yes','No','ILoveYou']# الكلمات المستخدمة\n",
    "number_imgs = 15 #عدد الصور اللي راح نأخذها لكل كلمة 13 trian 2 test"
   ]
  },
  {
   "cell_type": "code",
   "execution_count": 4,
   "metadata": {},
   "outputs": [
    {
     "name": "stdout",
     "output_type": "stream",
     "text": [
      "collecting images for Hi\n",
      "collecting images for Yes\n",
      "collecting images for No\n",
      "collecting images for ILoveYou\n"
     ]
    }
   ],
   "source": [
    "#collect images\n",
    "\n",
    "for label in labels:\n",
    "     !mkdir {'Tensorflow\\workspace\\images\\cllectedimages\\\\'+ label}\n",
    "     cap = cv2.VideoCapture(0) #satrt Capture 0 is my cam\n",
    "     print('collecting images for {}'.format(label))\n",
    "     time.sleep(5)\n",
    "     for imgnum in range(number_imgs):\n",
    "         ret , frame = cap.read()\n",
    "         imgname = os.path.join(IMAGES_PATH,label, label+'.'+ '{}.jpg' .format(str(uuid.uuid1())))\n",
    "         cv2.imwrite(imgname,frame)\n",
    "         cv2.imshow('frame', frame)\n",
    "         time.sleep(2)\n",
    "         if  cv2.waitKey(1) & 0xFF == ord('q'):\n",
    "             break\n",
    "\n",
    "\n",
    "     cap.release()\n",
    "\n",
    "     \n",
    "     \n",
    "     \n",
    "    "
   ]
  },
  {
   "cell_type": "code",
   "execution_count": null,
   "metadata": {},
   "outputs": [
    {
     "name": "stdout",
     "output_type": "stream",
     "text": [
      "Requirement already satisfied: opencv-python in c:\\python311\\lib\\site-packages (4.7.0.68)\n",
      "Requirement already satisfied: numpy>=1.21.2 in c:\\python311\\lib\\site-packages (from opencv-python) (1.23.5)\n",
      "Note: you may need to restart the kernel to use updated packages.\n"
     ]
    }
   ],
   "source": [
    "pip install opencv-python"
   ]
  }
 ],
 "metadata": {
  "kernelspec": {
   "display_name": "Python 3 (ipykernel)",
   "language": "python",
   "name": "python3"
  },
  "language_info": {
   "codemirror_mode": {
    "name": "ipython",
    "version": 3
   },
   "file_extension": ".py",
   "mimetype": "text/x-python",
   "name": "python",
   "nbconvert_exporter": "python",
   "pygments_lexer": "ipython3",
   "version": "3.9.13"
  }
 },
 "nbformat": 4,
 "nbformat_minor": 2
}
